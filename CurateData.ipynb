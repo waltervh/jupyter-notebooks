{
 "cells": [
  {
   "cell_type": "code",
   "execution_count": null,
   "metadata": {},
   "outputs": [],
   "source": [
    "import numpy as np\n",
    "import bornagain as ba\n",
    "import matplotlib.pyplot as plt\n",
    "from scipy.interpolate import griddata"
   ]
  },
  {
   "cell_type": "code",
   "execution_count": null,
   "metadata": {},
   "outputs": [],
   "source": [
    "DATA_FILE = \"/data/herck/Experiments/Asma/Alhroob_JX_37_48_13670.tif\""
   ]
  },
  {
   "cell_type": "code",
   "execution_count": null,
   "metadata": {},
   "outputs": [],
   "source": [
    "def rebin_linear(a, newshape):\n",
    "    '''Rebin an array using linear interpolation\n",
    "    '''\n",
    "    assert len(a.shape) == len(newshape)\n",
    "\n",
    "    avals = a.flatten()\n",
    "    slices_old = [ slice(0, old) for old in a.shape ]\n",
    "    slices_new = [ slice(0, old-1, new*1j) for old, new in zip(a.shape, newshape) ]\n",
    "    inds_in = np.mgrid[slices_old].reshape(len(a.shape), -1).T\n",
    "    inds_out = np.mgrid[slices_new].reshape(len(a.shape), -1).T\n",
    "\n",
    "    result = griddata(inds_in, avals, inds_out)\n",
    "    return result.reshape(newshape)"
   ]
  },
  {
   "cell_type": "code",
   "execution_count": null,
   "metadata": {},
   "outputs": [],
   "source": [
    "def normalize(a, mean, std):\n",
    "    m = a.mean()\n",
    "    s = np.std(a)\n",
    "    normal_a = (a-m)/s\n",
    "    return std*normal_a + mean"
   ]
  },
  {
   "cell_type": "code",
   "execution_count": null,
   "metadata": {},
   "outputs": [],
   "source": [
    "data = ba.IntensityDataIOFactory.readOutputData(DATA_FILE)\n",
    "data_arr = np.log(data.getArray().clip(0.) +1)\n",
    "plt.imshow(data_arr)\n",
    "plt.show()"
   ]
  },
  {
   "cell_type": "code",
   "execution_count": null,
   "metadata": {},
   "outputs": [],
   "source": [
    "data_arr.shape"
   ]
  },
  {
   "cell_type": "code",
   "execution_count": null,
   "metadata": {},
   "outputs": [],
   "source": [
    "mean = data_arr.mean()\n",
    "std = np.std(data_arr)\n",
    "print(\"Mean: {0}, std: {1}\".format(mean, std))"
   ]
  },
  {
   "cell_type": "code",
   "execution_count": null,
   "metadata": {},
   "outputs": [],
   "source": [
    "cropped = data_arr[:634, 262:936]\n",
    "cropped.shape"
   ]
  },
  {
   "cell_type": "code",
   "execution_count": null,
   "metadata": {},
   "outputs": [],
   "source": [
    "data_out = rebin_linear(cropped, (224,224))"
   ]
  },
  {
   "cell_type": "code",
   "execution_count": null,
   "metadata": {},
   "outputs": [],
   "source": [
    "data_norm = normalize(data_out, -0.2, 1.0)"
   ]
  },
  {
   "cell_type": "code",
   "execution_count": null,
   "metadata": {},
   "outputs": [],
   "source": [
    "plt.figure(figsize=(10,10))\n",
    "plt.imshow(data_norm)\n",
    "plt.show()"
   ]
  },
  {
   "cell_type": "code",
   "execution_count": null,
   "metadata": {},
   "outputs": [],
   "source": [
    "np.std(data_norm)"
   ]
  },
  {
   "cell_type": "code",
   "execution_count": null,
   "metadata": {},
   "outputs": [],
   "source": [
    "np.save(\"./realdata\", data_norm)"
   ]
  },
  {
   "cell_type": "code",
   "execution_count": null,
   "metadata": {},
   "outputs": [],
   "source": []
  }
 ],
 "metadata": {
  "kernelspec": {
   "display_name": "Python 3",
   "language": "python",
   "name": "python3"
  },
  "language_info": {
   "codemirror_mode": {
    "name": "ipython",
    "version": 3
   },
   "file_extension": ".py",
   "mimetype": "text/x-python",
   "name": "python",
   "nbconvert_exporter": "python",
   "pygments_lexer": "ipython3",
   "version": "3.6.6"
  }
 },
 "nbformat": 4,
 "nbformat_minor": 2
}
